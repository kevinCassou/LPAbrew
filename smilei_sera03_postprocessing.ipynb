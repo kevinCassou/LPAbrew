{
 "cells": [
  {
   "cell_type": "markdown",
   "metadata": {},
   "source": [
    "# SMILEI post-processing on SERA03 and local data\n",
    "\n"
   ]
  },
  {
   "cell_type": "markdown",
   "metadata": {},
   "source": [
    "you can use the Slava tricks below to make a ssh tunnel and run jupyter notebook on SERA03 to make the postprocessing on large file hdf files output of Smilei run.\n",
    "\n",
    "### Tutorial remote connection jupyter on `SERA03`\n",
    "\n",
    "_date_ :2020/06/26 \n",
    "\n",
    "_source_: café calcul & données - Slava Kubytskyi \n",
    "\n",
    "Connect to `SERA03` through `LX2` or `LX3`. Note that the text before % indicate where you are. \n",
    "\n",
    "    sera03/user% jupyter notebook password\n",
    "\n",
    "enter password and write it down somewhere. then launch the screen command\n",
    "\n",
    "    sera03/user% screen -S jupyter_session\n",
    "\n",
    "A new bash window will load in the current terminal. (-S is to name the `screen` session)\n",
    "\n",
    "    (screen)% jupyter notebook --no-browser --port=21301 --ip=134.158.89.239\n",
    "\n",
    "The ip is the `SERA03` one's. Then you need to detach the screen window type `ctrl+a + d`. You will be back to the current terminal window. \n",
    "You can check that your screen session is running by \n",
    "\n",
    "    sera03/user % screen -ls\n",
    "    There is a screen on:\n",
    "\t        185229.jupyter_session\t(Detached)\n",
    "    1 Socket in /var/run/screen/S-user.\n",
    "\n",
    "Then log out from SERA03 and LX3 or LX2. On your local PC create a ssh forward of the SERA03 port\n",
    "\n",
    "\n",
    "    localpc/user% ssh -fNL 21301:sera03:21301 user@lx2.lal.in2p3.fr\n",
    "\n",
    "then you can run your favorite browser and enter http://localhost:21301\n",
    "You will be invited to enter the password you define at the beginning.\n"
   ]
  },
  {
   "cell_type": "markdown",
   "metadata": {},
   "source": [
    "copy the library of dirty function in the following directory"
   ]
  },
  {
   "cell_type": "code",
   "execution_count": 1,
   "metadata": {},
   "outputs": [],
   "source": [
    "cp /users/flc/cassou/Simulations/lpa2.py . "
   ]
  },
  {
   "cell_type": "code",
   "execution_count": 2,
   "metadata": {},
   "outputs": [],
   "source": [
    "cp /users/flc/cassou/Simulations/plasma.py . "
   ]
  },
  {
   "cell_type": "markdown",
   "metadata": {},
   "source": [
    "you may have to install happi manually from [here](https://smileipic.github.io/Smilei/installation.html#installmodule) and h5py with pip or conda depending on your environnement. "
   ]
  },
  {
   "cell_type": "code",
   "execution_count": 3,
   "metadata": {},
   "outputs": [],
   "source": [
    "import happi\n",
    "import os\n",
    "import sys\n",
    "import lpa2 as l\n",
    "import plasma as pl\n",
    "import numpy as np\n",
    "import matplotlib.pyplot as plt\n",
    "import seaborn as sns\n",
    "%matplotlib inline"
   ]
  },
  {
   "cell_type": "markdown",
   "metadata": {},
   "source": [
    "We can for example analyse two simulation dataset. \n",
    "\n",
    "`` '/data/elinp/cassou/simulations/smilei/lpi-ii-env-test14/'\n",
    "'/data/elinp/cassou/simulations/smilei/lpi-ii-env-test94/' ``\n"
   ]
  },
  {
   "cell_type": "code",
   "execution_count": 4,
   "metadata": {},
   "outputs": [],
   "source": [
    "path1 = '/data/elinp/cassou/simulations/smilei/lpi-ii-env-test14/'\n",
    "path2 = '/data/elinp/cassou/simulations/smilei/lpi-ii-env-test94/'"
   ]
  },
  {
   "cell_type": "markdown",
   "metadata": {},
   "source": [
    "The list of function in `lpa2.py` are the following : \n",
    "\n",
    "* __l.loadData__(_path_to_directory_)  : loading data with the function happi.Open(), return an object call here `S` pointing to the hdf5 files in the dataset directory. You can extract from this object the information about the namelist (simulation parameters like show [here](https://smileipic.github.io/Smilei/post-processing.html)  \n",
    "\n",
    "* __l.getMaxinMovingWindow__(_S,variable_) return the max for each time step of a probes (accessible via `S.namelist.field_lists_forprobes`).\n",
    "\n",
    "* __l.plasmaprofile(S)__ :  return the electon plasma density  profile\n",
    "    `S `: is the simulation output object return by `happi.Open()` or `loadData(directory_path)`. \n",
    "    return the numpy array - _plasmaProfile (x,ne) e-/m^3_\n",
    "\n",
    "* __l.dopantprofile(S)__ : return the electon dopant density profile \n",
    "    `S` : is the simulation output object return by happi.Open()\n",
    "    return the numpy array - _dopant Profile (x,nN2) N2/m^3_"
   ]
  },
  {
   "cell_type": "code",
   "execution_count": 5,
   "metadata": {},
   "outputs": [
    {
     "name": "stdout",
     "output_type": "stream",
     "text": [
      "WARNING: 'show=False' requires you restart python.\n",
      "Loaded simulation '/data/elinp/cassou/simulations/smilei/lpi-ii-env-test14/'\n",
      "Scanning for Scalar diagnostics\n",
      "Scanning for Field diagnostics\n",
      "Scanning for Probe diagnostics\n",
      "Scanning for ParticleBinning diagnostics\n",
      "Scanning for Screen diagnostics\n",
      "Scanning for Tracked particle diagnostics\n"
     ]
    }
   ],
   "source": [
    "s14 = l.loadData(path1)"
   ]
  },
  {
   "cell_type": "code",
   "execution_count": 6,
   "metadata": {},
   "outputs": [
    {
     "name": "stdout",
     "output_type": "stream",
     "text": [
      "WARNING: 'show=False' requires you restart python.\n",
      "Loaded simulation '/data/elinp/cassou/simulations/smilei/lpi-ii-env-test94/'\n",
      "Scanning for Scalar diagnostics\n",
      "Scanning for Field diagnostics\n",
      "Scanning for Probe diagnostics\n",
      "Scanning for ParticleBinning diagnostics\n",
      "Scanning for Screen diagnostics\n",
      "Scanning for Tracked particle diagnostics\n"
     ]
    }
   ],
   "source": [
    "s94 = l.loadData(path2)"
   ]
  },
  {
   "cell_type": "code",
   "execution_count": 7,
   "metadata": {},
   "outputs": [
    {
     "data": {
      "text/plain": [
       "['Ex',\n",
       " 'Ey',\n",
       " 'Rho',\n",
       " 'Rho_electron',\n",
       " 'Rho_electronfromion',\n",
       " 'Rho_nitrogen5plus',\n",
       " 'Env_E_abs']"
      ]
     },
     "execution_count": 7,
     "metadata": {},
     "output_type": "execute_result"
    }
   ],
   "source": [
    "s14.namelist.field_lists_forprobes"
   ]
  },
  {
   "cell_type": "code",
   "execution_count": 8,
   "metadata": {},
   "outputs": [],
   "source": [
    "a0_14 = l.getMaxinMovingWindow(s14,'Env_E_abs') # return normalised vector, takes about 30s "
   ]
  },
  {
   "cell_type": "code",
   "execution_count": 9,
   "metadata": {},
   "outputs": [],
   "source": [
    "pp_14 = l.plasmaProfile(s14) # return plasma density profile\n",
    "pd_14 = l.dopantProfile(s14) # return N dopant density profile"
   ]
  },
  {
   "cell_type": "code",
   "execution_count": 10,
   "metadata": {},
   "outputs": [
    {
     "data": {
      "text/plain": [
       "Text(0, 0.5, '$a_0$')"
      ]
     },
     "execution_count": 10,
     "metadata": {},
     "output_type": "execute_result"
    },
    {
     "name": "stderr",
     "output_type": "stream",
     "text": [
      "findfont: Font family ['serif'] not found. Falling back to DejaVu Sans.\n"
     ]
    },
    {
     "data": {
      "image/png": "[encoded data removed]",
      "text/plain": [
       "<Figure size 432x288 with 1 Axes>"
      ]
     },
     "metadata": {
      "needs_background": "light"
     },
     "output_type": "display_data"
    }
   ],
   "source": [
    "plt.plot(a0_14[0,:],a0_14[1,:])\n",
    "plt.xlabel('timestep [$1/\\omega_0$]')\n",
    "plt.ylabel('$a_0$')"
   ]
  },
  {
   "cell_type": "code",
   "execution_count": 11,
   "metadata": {},
   "outputs": [
    {
     "data": {
      "text/plain": [
       "Text(0, 0.5, '$density [$cm^{-3}$]')"
      ]
     },
     "execution_count": 11,
     "metadata": {},
     "output_type": "execute_result"
    },
    {
     "data": {
      "image/png": "[encoded data removed]",
      "text/plain": [
       "<Figure size 432x288 with 1 Axes>"
      ]
     },
     "metadata": {
      "needs_background": "light"
     },
     "output_type": "display_data"
    }
   ],
   "source": [
    "plt.plot(pp_14[0,:],pp_14[1,:]*1e-6) # in cm^-3\n",
    "plt.plot(pd_14[0,:],pd_14[1,:]*1e-6) # in cm^-3\n",
    "plt.xlabel('x [$2\\pi/\\lambda_0$]')\n",
    "plt.ylabel('$density [$cm^{-3}$]')"
   ]
  },
  {
   "cell_type": "markdown",
   "metadata": {},
   "source": [
    "### Unit normalisation in Smilei\n",
    "\n",
    "For ionization simulation the normalisation are the following :\n",
    "\n",
    "* space : $x_n =\\lambda_0/2\\pi$ \n",
    "* time : $\\omega_0 = 2 \\pi c/\\lambda_0$\n",
    "* density : $n_c = \\epsilon_0 m_e \\omega_0^2/e^2$\n",
    "* energy : $m_e c^2$\n",
    "\n",
    "A timestep is dt and is given by in $1/\\omega_0$ unit"
   ]
  },
  {
   "cell_type": "code",
   "execution_count": 12,
   "metadata": {},
   "outputs": [
    {
     "data": {
      "text/plain": [
       "0.83"
      ]
     },
     "execution_count": 12,
     "metadata": {},
     "output_type": "execute_result"
    }
   ],
   "source": [
    "s14.namelist.dt"
   ]
  },
  {
   "cell_type": "markdown",
   "metadata": {},
   "source": [
    "The length of a timestep is given by dx in $\\lambda_0/2\\pi$ unit "
   ]
  },
  {
   "cell_type": "code",
   "execution_count": 13,
   "metadata": {},
   "outputs": [
    {
     "data": {
      "text/plain": [
       "1.0"
      ]
     },
     "execution_count": 13,
     "metadata": {},
     "output_type": "execute_result"
    }
   ],
   "source": [
    "s14.namelist.dx"
   ]
  },
  {
   "cell_type": "markdown",
   "metadata": {},
   "source": [
    "### beam parameters and energy spectrum"
   ]
  },
  {
   "cell_type": "markdown",
   "metadata": {},
   "source": [
    "we can get the beam parameter for each timestep using the function \n",
    "\n",
    "*  __l.beamparam__(S,iteration,species_name=\"electronfromion\",E_min=0,E_max=400,chunk_size=100000000,print_flag=True,save_flag=False)\n",
    "\n",
    "Return a list which contains :\n",
    "\n",
    "    [iteration,\n",
    "    times,\n",
    "    mean energy,\n",
    "    $\\sigma_E$/E$,Q,\n",
    "    emittance_y,\n",
    "    emittance_z,\n",
    "    rmssize_longitudinal,\n",
    "    rmssize_y,\n",
    "    rmssize_z,\n",
    "    divergence_rms]\n",
    "    \n",
    "* Energy : $<E>$ in MeV\n",
    "* energy spread : $\\sigma_E/E$ in MeV\n",
    "* Q in pC\n",
    "* transverse emittance (y,z) : $\\varepsilon_{i:y,z} =\\lambda_0 \\sqrt{<p_i>^2 <i>^2 - <i p_i >^2} *10^6/(2\\pi) $ , in mm.mrad\n",
    "* rms divergence is  : $\\theta_{rms} = \\sqrt{ p_y^2/p_x^2 + p_z^2/px^2}$ in mrad\n",
    "* rms size are defined by : $s_{i:x,y,z} = \\lambda_0*\\sqrt{<i>^2}*10^6/\\pi$ in um."
   ]
  },
  {
   "cell_type": "code",
   "execution_count": 14,
   "metadata": {},
   "outputs": [
    {
     "name": "stderr",
     "output_type": "stream",
     "text": [
      "/users/flc/cassou/Smilei/happi/_Diagnostics/TrackParticles.py:341: H5pyDeprecationWarning: The default file mode will change to 'r' (read-only) in h5py 3.0. To suppress this warning, pass the mode you need to h5py.File(), or set the global default h5.get_config().default_file_mode, or set the environment variable H5PY_DEFAULT_READONLY=1. Available modes are: 'r', 'r+', 'w', 'w-'/'x', 'a'. See the docs for details.\n",
      "  f = self._h5py.File(orderedfile)\n",
      "/users/flc/cassou/Smilei/happi/_Diagnostics/TrackParticles.py:45: H5pyDeprecationWarning: The default file mode will change to 'r' (read-only) in h5py 3.0. To suppress this warning, pass the mode you need to h5py.File(), or set the global default h5.get_config().default_file_mode, or set the environment variable H5PY_DEFAULT_READONLY=1. Available modes are: 'r', 'r+', 'w', 'w-'/'x', 'a'. See the docs for details.\n",
      "  f = self._h5py.File(orderedfile)\n",
      "/users/flc/cassou/Smilei/happi/_Diagnostics/TrackParticles.py:82: H5pyDeprecationWarning: The default file mode will change to 'r' (read-only) in h5py 3.0. To suppress this warning, pass the mode you need to h5py.File(), or set the global default h5.get_config().default_file_mode, or set the environment variable H5PY_DEFAULT_READONLY=1. Available modes are: 'r', 'r+', 'w', 'w-'/'x', 'a'. See the docs for details.\n",
      "  with self._h5py.File(file) as f:\n",
      "/users/flc/cassou/Smilei/happi/_Diagnostics/TrackParticles.py:278: H5pyDeprecationWarning: The default file mode will change to 'r' (read-only) in h5py 3.0. To suppress this warning, pass the mode you need to h5py.File(), or set the global default h5.get_config().default_file_mode, or set the environment variable H5PY_DEFAULT_READONLY=1. Available modes are: 'r', 'r+', 'w', 'w-'/'x', 'a'. See the docs for details.\n",
      "  with self._h5py.File(file) as f:\n",
      "/users/flc/cassou/Smilei/happi/_Diagnostics/TrackParticles.py:663: H5pyDeprecationWarning: The default file mode will change to 'r' (read-only) in h5py 3.0. To suppress this warning, pass the mode you need to h5py.File(), or set the global default h5.get_config().default_file_mode, or set the environment variable H5PY_DEFAULT_READONLY=1. Available modes are: 'r', 'r+', 'w', 'w-'/'x', 'a'. See the docs for details.\n",
      "  f = self._h5py.File(file)\n"
     ]
    },
    {
     "name": "stdout",
     "output_type": "stream",
     "text": [
      "Selecting particles ... (this may take a while)\n",
      "Removing dead particles ...\n",
      "Kept 1280948 particles\n",
      "dict_keys(['Id', 'x', 'y', 'z', 'px', 'py', 'pz', 'w', 'moving_x'])\n",
      "Read  672401  particles from the file\n",
      "Total charge before filter in energy=  32.291782590421676  pC\n",
      "Total charge after filter in Energy =  32.291782590421676  pC\n",
      "Filter energy limits:  0 ,  400  (m_e c^2)\n",
      "\n",
      "--------------------------------------------\n",
      "\n",
      "Read  672401  particles\n",
      "Iteration =  24000\n",
      "Simulation time =  8460.163374465024  fs\n",
      "E_mean =  84.30238176639511  MeV\n",
      "2*DeltaE_rms / E_mean =  78.52068394899169  %.\n",
      "Total charge =  32.291782590421676  pC.\n",
      "Emittance_y =  16.81329829430733  mm-mrad\n",
      "Emittance_z =  4.124980433888  mm-mrad\n",
      "divergence_rms =  0.01938408872684027\n",
      "\n",
      "--------------------------------------------\n",
      "\n"
     ]
    }
   ],
   "source": [
    "bp14 = l.beamParam(s14,24000)"
   ]
  },
  {
   "cell_type": "markdown",
   "metadata": {},
   "source": [
    "to get the spectrum for a given iteration use \n",
    "\n",
    "* l.getSpectrum(S,iteration_to_plot,species_name= \"electronfromion\",horiz_axis_name= \"E\",chunk_size=100000000,E_min=0,E_max=400,plot_flag=False,print_flag=False)"
   ]
  },
  {
   "cell_type": "code",
   "execution_count": 15,
   "metadata": {},
   "outputs": [
    {
     "name": "stdout",
     "output_type": "stream",
     "text": [
      "Selecting particles ... (this may take a while)\n",
      "Removing dead particles ...\n",
      "Kept 1280948 particles\n",
      "dict_keys(['Id', 'x', 'y', 'z', 'px', 'py', 'pz', 'w', 'moving_x'])\n",
      "Read  672401  particles from the file\n",
      "Total charge before filter in energy=  32.291782590421676  pC\n",
      "Total charge after filter in Energy =  32.291782590421676  pC\n",
      "Filter energy limits:  0 ,  400  (m_e c^2)\n"
     ]
    },
    {
     "name": "stderr",
     "output_type": "stream",
     "text": [
      "findfont: Font family ['serif'] not found. Falling back to DejaVu Sans.\n"
     ]
    },
    {
     "name": "stdout",
     "output_type": "stream",
     "text": [
      "Total charge in in the histogram = 32.29178259042173  pC\n",
      "Bins size: dx =  1.024\n",
      "200\n",
      "Values extension for  E  (all particles):\n",
      "[  2.15583696 202.0222156 ]\n",
      "Values extension for  E  (particles included in the chosen horiz axis limits):\n",
      "[  0.  204.8]\n"
     ]
    },
    {
     "data": {
      "image/png": "[encoded data removed]",
      "text/plain": [
       "<Figure size 432x288 with 1 Axes>"
      ]
     },
     "metadata": {},
     "output_type": "display_data"
    }
   ],
   "source": [
    "spec = l.getSpectrum(s14,24000,species_name= \"electronfromion\",horiz_axis_name= \"E\",chunk_size=100000000,E_min=0,E_max=400,plot_flag=True,print_flag=True)"
   ]
  },
  {
   "cell_type": "markdown",
   "metadata": {},
   "source": [
    "To get all the particle at the exit of the plasma for beam dynamic transport calculation use \n",
    "\n",
    "* __l.getParticles__(s,iteration,species_name=\"electronfromion\",chunk_size=100000000,print_flag = True)"
   ]
  },
  {
   "cell_type": "code",
   "execution_count": 16,
   "metadata": {},
   "outputs": [
    {
     "name": "stdout",
     "output_type": "stream",
     "text": [
      "Selecting particles ... (this may take a while)\n",
      "Removing dead particles ...\n",
      "Kept 1280948 particles\n",
      "last timesteps= 32100\n"
     ]
    },
    {
     "name": "stderr",
     "output_type": "stream",
     "text": [
      "/users/flc/cassou/Smilei/happi/_Diagnostics/TrackParticles.py:341: H5pyDeprecationWarning: The default file mode will change to 'r' (read-only) in h5py 3.0. To suppress this warning, pass the mode you need to h5py.File(), or set the global default h5.get_config().default_file_mode, or set the environment variable H5PY_DEFAULT_READONLY=1. Available modes are: 'r', 'r+', 'w', 'w-'/'x', 'a'. See the docs for details.\n",
      "  f = self._h5py.File(orderedfile)\n",
      "/users/flc/cassou/Smilei/happi/_Diagnostics/TrackParticles.py:45: H5pyDeprecationWarning: The default file mode will change to 'r' (read-only) in h5py 3.0. To suppress this warning, pass the mode you need to h5py.File(), or set the global default h5.get_config().default_file_mode, or set the environment variable H5PY_DEFAULT_READONLY=1. Available modes are: 'r', 'r+', 'w', 'w-'/'x', 'a'. See the docs for details.\n",
      "  f = self._h5py.File(orderedfile)\n",
      "/users/flc/cassou/Smilei/happi/_Diagnostics/TrackParticles.py:82: H5pyDeprecationWarning: The default file mode will change to 'r' (read-only) in h5py 3.0. To suppress this warning, pass the mode you need to h5py.File(), or set the global default h5.get_config().default_file_mode, or set the environment variable H5PY_DEFAULT_READONLY=1. Available modes are: 'r', 'r+', 'w', 'w-'/'x', 'a'. See the docs for details.\n",
      "  with self._h5py.File(file) as f:\n",
      "/users/flc/cassou/Smilei/happi/_Diagnostics/TrackParticles.py:278: H5pyDeprecationWarning: The default file mode will change to 'r' (read-only) in h5py 3.0. To suppress this warning, pass the mode you need to h5py.File(), or set the global default h5.get_config().default_file_mode, or set the environment variable H5PY_DEFAULT_READONLY=1. Available modes are: 'r', 'r+', 'w', 'w-'/'x', 'a'. See the docs for details.\n",
      "  with self._h5py.File(file) as f:\n"
     ]
    }
   ],
   "source": [
    "timeSteps = l.getPartAvailableSteps(s14)\n",
    "last_timeStep = timeSteps[-1]\n",
    "print('last timesteps=',last_timeStep)"
   ]
  },
  {
   "cell_type": "code",
   "execution_count": 17,
   "metadata": {},
   "outputs": [
    {
     "name": "stdout",
     "output_type": "stream",
     "text": [
      "Selecting particles ... (this may take a while)\n",
      "Removing dead particles ...\n",
      "Kept 1280948 particles\n"
     ]
    },
    {
     "name": "stderr",
     "output_type": "stream",
     "text": [
      "/users/flc/cassou/Smilei/happi/_Diagnostics/TrackParticles.py:663: H5pyDeprecationWarning: The default file mode will change to 'r' (read-only) in h5py 3.0. To suppress this warning, pass the mode you need to h5py.File(), or set the global default h5.get_config().default_file_mode, or set the environment variable H5PY_DEFAULT_READONLY=1. Available modes are: 'r', 'r+', 'w', 'w-'/'x', 'a'. See the docs for details.\n",
      "  f = self._h5py.File(file)\n"
     ]
    },
    {
     "name": "stdout",
     "output_type": "stream",
     "text": [
      "dict_keys(['Id', 'x', 'y', 'z', 'px', 'py', 'pz', 'w', 'moving_x'])\n",
      "Read  646009  particles from the file\n",
      "Total charge before filter in energy=  31.97751108811239  pC\n"
     ]
    }
   ],
   "source": [
    "beampart = l.getParticles(s14,last_timeStep)"
   ]
  },
  {
   "cell_type": "code",
   "execution_count": 24,
   "metadata": {},
   "outputs": [
    {
     "data": {
      "text/plain": [
       "(645898,)"
      ]
     },
     "execution_count": 24,
     "metadata": {},
     "output_type": "execute_result"
    }
   ],
   "source": [
    "beampart[0,:].shape"
   ]
  },
  {
   "cell_type": "code",
   "execution_count": 56,
   "metadata": {},
   "outputs": [],
   "source": [
    "from scipy.stats import kde\n",
    "x = beampart[0,:],\n",
    "px = beampart[3,:],\n",
    "data = np.array([x[0],px[0]])\n",
    "k = kde.gaussian_kde(data)\n",
    "nbins = 50\n",
    "xi, yi = np.mgrid[x[0].min():x[0].max():nbins*1j, px[0].min():px[0].max():nbins*1j]\n",
    "zi = k(np.vstack([xi.flatten(), yi.flatten()]))"
   ]
  },
  {
   "cell_type": "code",
   "execution_count": 58,
   "metadata": {},
   "outputs": [
    {
     "data": {
      "text/plain": [
       "Text(0.5, 0, 'x [$/\\\\lambda_0/2\\\\pi$]')"
      ]
     },
     "execution_count": 58,
     "metadata": {},
     "output_type": "execute_result"
    },
    {
     "data": {
      "image/png": "[encoded data removed]",
      "text/plain": [
       "<Figure size 432x288 with 1 Axes>"
      ]
     },
     "metadata": {
      "needs_background": "light"
     },
     "output_type": "display_data"
    }
   ],
   "source": [
    "plt.pcolormesh(xi, yi, zi.reshape(xi.shape), shading='gouraud',cmap='Blues')\n",
    "plt.ylabel('momentum px [$m_e c^2$]')\n",
    "plt.xlabel('x [$/\\lambda_0/2\\pi$]')"
   ]
  },
  {
   "cell_type": "code",
   "execution_count": null,
   "metadata": {},
   "outputs": [],
   "source": []
  }
 ],
 "metadata": {
  "hide_input": false,
  "kernelspec": {
   "display_name": "Python 3",
   "language": "python",
   "name": "python3"
  },
  "language_info": {
   "codemirror_mode": {
    "name": "ipython",
    "version": 3
   },
   "file_extension": ".py",
   "mimetype": "text/x-python",
   "name": "python",
   "nbconvert_exporter": "python",
   "pygments_lexer": "ipython3",
   "version": "3.7.6"
  }
 },
 "nbformat": 4,
 "nbformat_minor": 4
}
